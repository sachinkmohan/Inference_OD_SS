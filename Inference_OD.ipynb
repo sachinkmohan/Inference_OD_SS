{
 "cells": [
  {
   "cell_type": "markdown",
   "metadata": {},
   "source": [
    "### Load tensorRT graph"
   ]
  },
  {
   "cell_type": "code",
   "execution_count": 1,
   "metadata": {},
   "outputs": [
    {
     "name": "stdout",
     "output_type": "stream",
     "text": [
      "load graph\n",
      "WARNING:tensorflow:From <ipython-input-1-432b08fce357>:29: FastGFile.__init__ (from tensorflow.python.platform.gfile) is deprecated and will be removed in a future version.\n",
      "Instructions for updating:\n",
      "Use tf.gfile.GFile.\n",
      "      *****************************************************************                                \n"
     ]
    }
   ],
   "source": [
    "import tensorflow as tf\n",
    "from tensorflow.python.platform import gfile\n",
    "\n",
    "from ssd_encoder_decoder.ssd_output_decoder import decode_detections, decode_detections_fast\n",
    "\n",
    "GRAPH_PB_PATH_OD = './frozen_model_od/tf_ssd7_model.pb'\n",
    "\n",
    "\n",
    "#loading the graph for OD\n",
    "with tf.Session() as sess1:\n",
    "   print(\"load graph\")\n",
    "   with gfile.FastGFile(GRAPH_PB_PATH_OD,'rb') as f:\n",
    "       graph_def1 = tf.GraphDef()\n",
    "   graph_def1.ParseFromString(f.read())\n",
    "   sess1.graph.as_default()\n",
    "   tf.import_graph_def(graph_def1, name='')\n",
    "   graph_nodes1=[n for n in graph_def1.node]\n",
    "   names1 = []\n",
    "   for t in graph_nodes1:\n",
    "      names1.append(t.name)\n",
    "                                                                                                                                                                                                                                                                                                                                                                                                                                                                                                                                               print(names)"
   ]
  },
  {
   "cell_type": "markdown",
   "metadata": {},
   "source": [
    "### Loading the pb graph"
   ]
  },
  {
   "cell_type": "code",
   "execution_count": null,
   "metadata": {},
   "outputs": [],
   "source": [
    "tf_config = tf.ConfigProto()\n",
    "tf_config.gpu_options.allow_growth = True\n",
    "\n",
    "tf_sess = tf.Session(config=tf_config)\n",
    "\n",
    "tf.import_graph_def(graph_def, name='')"
   ]
  },
  {
   "cell_type": "code",
   "execution_count": 2,
   "metadata": {},
   "outputs": [],
   "source": [
    "tf_config = tf.ConfigProto()\n",
    "tf_config.gpu_options.allow_growth = True\n",
    "\n",
    "tf_sess1 = tf.Session(config=tf_config)\n",
    "tf.import_graph_def(graph_def1, name='')\n"
   ]
  },
  {
   "cell_type": "code",
   "execution_count": null,
   "metadata": {},
   "outputs": [],
   "source": [
    "tf_input1 = tf_sess1.graph.get_tensor_by_name('input_1:0')\n",
    "print(tf_input1)\n",
    "tf_predictions1 = tf_sess1.graph.get_tensor_by_name('predictions/concat:0')\n",
    "print(tf_predictions1)"
   ]
  },
  {
   "cell_type": "markdown",
   "metadata": {},
   "source": [
    "### Inference on live camera data with pb graph"
   ]
  },
  {
   "cell_type": "code",
   "execution_count": null,
   "metadata": {},
   "outputs": [],
   "source": [
    "import cv2\n",
    "import numpy as np\n",
    "#import matplotlib.pyplot as plt\n",
    "\n",
    "from tensorflow.python.keras.backend import set_session\n",
    "graph = tf.get_default_graph()\n",
    "\n",
    "\n",
    "## Drawing a bounding box around the predictions\n",
    "\n",
    "classes = ['background', 'car', 'truck', 'pedestrian', 'bicyclist', 'light'] # Just so we can print class names onto the image instead of IDs\n",
    "font = cv2.FONT_HERSHEY_SIMPLEX\n",
    "  \n",
    "\n",
    "# fontScale\n",
    "fontScale = 0.5\n",
    "   \n",
    "# Blue color in BGR\n",
    "color = (255, 255, 0)\n",
    "  \n",
    "# Line thickness of 2 px\n",
    "thickness = 1\n",
    "\n",
    "\n",
    "#Capture the video from the camera\n",
    "\n",
    "cap = cv2.VideoCapture(0)\n",
    "\n",
    "while cap.isOpened():\n",
    "    ret, frame = cap.read()\n",
    "\n",
    "    image_resized2 = cv2.resize(frame, (480,300))\n",
    "\n",
    "    if ret:\n",
    "        with graph.as_default():\n",
    "            set_session(sess)\n",
    "            inputs1, predictions1 = tf_sess.run([tf_input1, tf_predictions1], feed_dict={\n",
    "            tf_input: image_resized2[None, ...]\n",
    "        })\n",
    "        \n",
    "        y_pred_decoded = decode_detections(predictions1,\n",
    "                                   confidence_thresh=0.5,\n",
    "                                   iou_threshold=0.45,\n",
    "                                   top_k=200,\n",
    "                                   normalize_coords=True,\n",
    "                                   img_height=300,\n",
    "                                   img_width=480)\n",
    "        np.set_printoptions(precision=2, suppress=True, linewidth=90)\n",
    "        \n",
    "        for box in y_pred_decoded[0]:\n",
    "            \n",
    "            xmin = box[-4]\n",
    "            ymin = box[-3]\n",
    "            xmax = box[-2]\n",
    "            ymax = box[-1]\n",
    "            label = '{}: {:.2f}'.format(classes[int(box[0])], box[1])\n",
    "            #cv2.rectangle(im2, (xmin,ymin),(xmax,ymax), color=color, thickness=2 )\n",
    "            cv2.rectangle(image_resized2, (int(xmin),int(ymin)),(int(xmax),int(ymax)), color=(0,255,0), thickness=2 )\n",
    "            cv2.putText(image_resized2, label, (int(xmin), int(ymin)), font, fontScale, color, thickness)\n",
    "        cv2.imshow('Input Images',image_resized2)\n",
    "\n",
    "        #cv2.waitKey(0)\n",
    "        if cv2.waitKey(1) & 0xFF == ord('q'):\n",
    "            break\n",
    "\n",
    "\n",
    "    else:\n",
    "        cap.release()\n",
    "        break\n",
    "\n",
    "cap.release()\n",
    "cv2.destroyAllWindows()"
   ]
  }
 ],
 "metadata": {
  "kernelspec": {
   "display_name": "Python 3",
   "language": "python",
   "name": "python3"
  },
  "language_info": {
   "codemirror_mode": {
    "name": "ipython",
    "version": 3
   },
   "file_extension": ".py",
   "mimetype": "text/x-python",
   "name": "python",
   "nbconvert_exporter": "python",
   "pygments_lexer": "ipython3",
   "version": "3.6.13"
  }
 },
 "nbformat": 4,
 "nbformat_minor": 5
}
